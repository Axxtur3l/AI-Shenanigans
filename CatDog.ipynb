{
 "cells": [
  {
   "cell_type": "code",
   "execution_count": null,
   "metadata": {},
   "outputs": [],
   "source": [
    "import os\n",
    "\n",
    "path,dirs,files = next(os.walk('train'))\n",
    "\n",
    "print('There is')\n",
    "print(len(files))\n",
    "print('files')"
   ]
  },
  {
   "cell_type": "code",
   "execution_count": null,
   "metadata": {},
   "outputs": [],
   "source": [
    "file_names = os.listdir('train')[:2000]\n",
    "print(file_names[0])"
   ]
  },
  {
   "cell_type": "code",
   "execution_count": null,
   "metadata": {},
   "outputs": [],
   "source": [
    "import matplotlib.pyplot as plt\n",
    "import matplotlib.image as mpimg"
   ]
  },
  {
   "cell_type": "code",
   "execution_count": null,
   "metadata": {},
   "outputs": [],
   "source": [
    "cat = mpimg.imread('train/cat.10145.jpg')\n",
    "plt.imshow(cat)\n",
    "plt.show()"
   ]
  },
  {
   "cell_type": "code",
   "execution_count": null,
   "metadata": {},
   "outputs": [],
   "source": [
    "dog = mpimg.imread('train/dog.10145.jpg')\n",
    "plt.imshow(dog)\n",
    "plt.show()"
   ]
  },
  {
   "cell_type": "code",
   "execution_count": null,
   "metadata": {},
   "outputs": [],
   "source": [
    "dog_files = []\n",
    "cat_files = []\n",
    "\n",
    "labels = []\n",
    "\n",
    "for file_name in file_names:\n",
    "    if file_name.startswith('cat'):\n",
    "        cat_files.append(file_name)\n",
    "\n",
    "        labels.append(0)\n",
    "    elif file_name.startswith('dog'):\n",
    "        dog_files.append(file_name)\n",
    "\n",
    "        labels.append(1)\n",
    "        \n",
    "print(len(dog_files))\n",
    "print(len(cat_files))"
   ]
  },
  {
   "cell_type": "code",
   "execution_count": null,
   "metadata": {},
   "outputs": [],
   "source": [
    "import PIL\n",
    "\n",
    "for file_name in file_names:\n",
    "    img = PIL.Image.open('train/'+ file_name)\n",
    "    img = img.resize((224,224))\n",
    "    img = img.convert('RGB')\n",
    "\n",
    "    img.save('resized/'+ file_name)"
   ]
  },
  {
   "cell_type": "code",
   "execution_count": null,
   "metadata": {},
   "outputs": [],
   "source": [
    "import cv2\n",
    "import glob\n",
    "import numpy as np\n",
    "\n",
    "catdogimgs = []\n",
    "\n",
    "for file_name in file_names:\n",
    "    catdogimgs.append(cv2.imread('resized/'+ file_name))\n",
    "\n",
    "catdogimgs = np.asarray(catdogimgs)\n"
   ]
  },
  {
   "cell_type": "code",
   "execution_count": null,
   "metadata": {},
   "outputs": [],
   "source": [
    "from sklearn.model_selection import train_test_split\n",
    "\n",
    "labels = np.asarray(labels)\n",
    "\n",
    "X_train, X_test, Y_train, Y_test = train_test_split(catdogimgs, labels, test_size = 0.2, random_state = 2)\n",
    "\n",
    "\n",
    "X_train_scaled = X_train/255\n",
    "\n",
    "X_test_scaled = X_test/255"
   ]
  },
  {
   "cell_type": "code",
   "execution_count": null,
   "metadata": {},
   "outputs": [],
   "source": [
    "import tensorflow as tf\n",
    "import tensorflow_hub as hub\n",
    "\n",
    "mobilenet_model = 'https://tfhub.dev/google/tf2-preview/mobilenet_v2/feature_vector/4'\n",
    "\n",
    "pretrained_model = hub.KerasLayer(mobilenet_model, input_shape=(224,224,3), trainable=False)"
   ]
  },
  {
   "cell_type": "code",
   "execution_count": null,
   "metadata": {},
   "outputs": [],
   "source": [
    "model = tf.keras.Sequential([\n",
    "    pretrained_model,\n",
    "    tf.keras.layers.Dense(2)\n",
    "])\n",
    "\n",
    "model.summary()"
   ]
  },
  {
   "cell_type": "code",
   "execution_count": null,
   "metadata": {},
   "outputs": [],
   "source": [
    "model.compile(\n",
    "    optimizer = 'adam',\n",
    "    loss = tf.keras.losses.SparseCategoricalCrossentropy(from_logits=True),\n",
    "    metrics = ['acc']\n",
    ")"
   ]
  },
  {
   "cell_type": "code",
   "execution_count": null,
   "metadata": {},
   "outputs": [],
   "source": [
    "model.fit(X_train_scaled, Y_train, epochs = 5)"
   ]
  },
  {
   "cell_type": "code",
   "execution_count": null,
   "metadata": {},
   "outputs": [],
   "source": [
    "score, acc = model.evaluate(X_test_scaled, Y_test)\n",
    "print('Test Loss =', score)\n",
    "print('Test Accuracy =', acc)"
   ]
  },
  {
   "cell_type": "code",
   "execution_count": null,
   "metadata": {},
   "outputs": [],
   "source": [
    "image_number = input(\"Give me a number between 1 and 12500\")\n",
    "\n",
    "test_image = mpimg.imread(f'test1/{image_number}.jpg')\n",
    "plt.imshow(test_image)\n",
    "plt.show()"
   ]
  },
  {
   "cell_type": "code",
   "execution_count": null,
   "metadata": {},
   "outputs": [],
   "source": [
    "input_image = cv2.imread(f'test1/{image_number}.jpg')\n",
    "\n",
    "input_image_resize = cv2.resize(input_image, (224,224))\n",
    "\n",
    "input_image_scaled = input_image_resize/255\n",
    "\n",
    "image_reshaped = np.reshape(input_image_scaled, [1,224,224,3])\n",
    "\n",
    "input_prediction = model.predict(image_reshaped)\n",
    "\n",
    "print(input_prediction)"
   ]
  },
  {
   "cell_type": "code",
   "execution_count": null,
   "metadata": {},
   "outputs": [],
   "source": [
    "catdogimgs = np.argmax(input_prediction)\n",
    "\n",
    "print(catdogimgs)\n",
    "\n",
    "if catdogimgs == 0:\n",
    "    print('😺')\n",
    "elif catdogimgs == 1:\n",
    "    print('🐶')"
   ]
  }
 ],
 "metadata": {
  "kernelspec": {
   "display_name": "Python 3",
   "language": "python",
   "name": "python3"
  },
  "language_info": {
   "codemirror_mode": {
    "name": "ipython",
    "version": 3
   },
   "file_extension": ".py",
   "mimetype": "text/x-python",
   "name": "python",
   "nbconvert_exporter": "python",
   "pygments_lexer": "ipython3",
   "version": "3.10.10"
  },
  "orig_nbformat": 4,
  "vscode": {
   "interpreter": {
    "hash": "88458253f765925031bb325d1d9ad0c171c2caa9295a5ec00c629eb40298ba80"
   }
  }
 },
 "nbformat": 4,
 "nbformat_minor": 2
}
