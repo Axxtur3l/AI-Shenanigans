{
 "cells": [
  {
   "cell_type": "code",
   "execution_count": 1,
   "metadata": {},
   "outputs": [
    {
     "data": {
      "application/vnd.jupyter.widget-view+json": {
       "model_id": "a00aa7d1a762427186c7582575ad781d",
       "version_major": 2,
       "version_minor": 0
      },
      "text/plain": [
       "Downloading (…)lve/main/config.json:   0%|          | 0.00/665 [00:00<?, ?B/s]"
      ]
     },
     "metadata": {},
     "output_type": "display_data"
    },
    {
     "data": {
      "application/vnd.jupyter.widget-view+json": {
       "model_id": "9d5ecbadbe2342259ce31194b8648ad1",
       "version_major": 2,
       "version_minor": 0
      },
      "text/plain": [
       "Downloading (…)\"pytorch_model.bin\";:   0%|          | 0.00/548M [00:00<?, ?B/s]"
      ]
     },
     "metadata": {},
     "output_type": "display_data"
    },
    {
     "name": "stderr",
     "output_type": "stream",
     "text": [
      "Generate config GenerationConfig {\n",
      "  \"bos_token_id\": 50256,\n",
      "  \"eos_token_id\": 50256,\n",
      "  \"transformers_version\": \"4.26.1\"\n",
      "}\n",
      "\n"
     ]
    },
    {
     "data": {
      "application/vnd.jupyter.widget-view+json": {
       "model_id": "1fcceb28c2964ff89fd5c87d75a0399a",
       "version_major": 2,
       "version_minor": 0
      },
      "text/plain": [
       "Downloading (…)neration_config.json:   0%|          | 0.00/124 [00:00<?, ?B/s]"
      ]
     },
     "metadata": {},
     "output_type": "display_data"
    },
    {
     "name": "stderr",
     "output_type": "stream",
     "text": [
      "loading configuration file generation_config.json from cache at aitextgen/models--gpt2/snapshots/e7da7f221d5bf496a48136c0cd264e630fe9fcc8/generation_config.json\n",
      "Generate config GenerationConfig {\n",
      "  \"_from_model_config\": true,\n",
      "  \"bos_token_id\": 50256,\n",
      "  \"eos_token_id\": 50256,\n",
      "  \"transformers_version\": \"4.26.1\"\n",
      "}\n",
      "\n"
     ]
    }
   ],
   "source": [
    "from aitextgen import aitextgen\n",
    "\n",
    "ai = aitextgen()"
   ]
  },
  {
   "cell_type": "code",
   "execution_count": 2,
   "metadata": {},
   "outputs": [
    {
     "name": "stderr",
     "output_type": "stream",
     "text": [
      "Generate config GenerationConfig {\n",
      "  \"bos_token_id\": 50256,\n",
      "  \"eos_token_id\": 50256,\n",
      "  \"transformers_version\": \"4.26.1\"\n",
      "}\n",
      "\n",
      "A decoder-only architecture is being used, but right-padding was detected! For correct generation results, please set `padding_side='left'` when initializing the tokenizer.\n"
     ]
    },
    {
     "name": "stdout",
     "output_type": "stream",
     "text": [
      "In his second year with the Eagles, rookie quarterback Jay Cutler is going against the grain of his draft choices and he has been a disappointment.\n",
      "\n",
      "No one can predict who will fill out the starting job in 2017 but the Bears are more than willing to give Cutler the chance to start, with the exception of linebacker Brandon Marshall.\n",
      "\n",
      "Marshall will also play on special teams and will likely have to deal with a slew of injury concerns, including a fractured fibula in his right knee.\n",
      "\n",
      "\"He's a good starter for us, a real good fit for us,\" Bears coach Marc Trestman said. \"He's a good, young guy, and we're going to be excited about him.\"\n",
      "\n",
      "In the past two seasons, Cutler has thrown for 3,958 yards and 38 touchdowns on the ground.\n",
      "\n",
      "The Bears will have to prove there are no players they could put a team above in a crowded offense.\n",
      "\n",
      "\"That's all part of the game,\" Trestman said. \"If we want to win, we're going to have to do it for ourselves … We're going to have to have a defense that can win the ball game.\"\n",
      "\n",
      "But the Bears have a lot more to work with.\n",
      "None\n"
     ]
    }
   ],
   "source": [
    "print(ai.generate())"
   ]
  },
  {
   "cell_type": "code",
   "execution_count": 4,
   "metadata": {},
   "outputs": [
    {
     "name": "stderr",
     "output_type": "stream",
     "text": [
      "Generate config GenerationConfig {\n",
      "  \"bos_token_id\": 50256,\n",
      "  \"eos_token_id\": 50256,\n",
      "  \"transformers_version\": \"4.26.1\"\n",
      "}\n",
      "\n"
     ]
    },
    {
     "name": "stdout",
     "output_type": "stream",
     "text": [
      "\u001b[1mpee pee poo poo is\u001b[0m so good for your health, I don't think you should have it in your diet. The first thing you'll need to do is wash your hands with soap. This will remove any dirt and bacteria on your hands, and you'll be fine. If you have a small amount of water in your mouth, you should make sure you are using the right amount of water. When you use a spoon, it will help to leave a small amount of water to dissolve the bacteria. The water will help to stay in the toilet. If you are using a small amount of water, you may need to add more water or take more baths.\n",
      "\n",
      "Once your water has dissolved, your body will begin to produce more urine. You will notice the amount of urine on your face and on your hands. If you have a hard time keeping your hands clean, you will probably need to take a shower, or some other means of washing your hands. It is important to rinse your hands before going to bed. The longer you wait for the urine to settle, the more time you will need to wash your hands.\n",
      "\n",
      "After you have washed your hands, your body will begin to produce a lot more urine. This is when your urine will start\n",
      "None\n"
     ]
    }
   ],
   "source": [
    "print(ai.generate(prompt = \"pee pee poo poo is\"))"
   ]
  }
 ],
 "metadata": {
  "kernelspec": {
   "display_name": "Python 3",
   "language": "python",
   "name": "python3"
  },
  "language_info": {
   "codemirror_mode": {
    "name": "ipython",
    "version": 3
   },
   "file_extension": ".py",
   "mimetype": "text/x-python",
   "name": "python",
   "nbconvert_exporter": "python",
   "pygments_lexer": "ipython3",
   "version": "3.9.6"
  },
  "orig_nbformat": 4,
  "vscode": {
   "interpreter": {
    "hash": "31f2aee4e71d21fbe5cf8b01ff0e069b9275f58929596ceb00d14d90e3e16cd6"
   }
  }
 },
 "nbformat": 4,
 "nbformat_minor": 2
}
